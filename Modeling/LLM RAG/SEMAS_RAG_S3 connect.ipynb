{
 "cells": [
  {
   "cell_type": "markdown",
   "metadata": {
    "application/vnd.databricks.v1+cell": {
     "cellMetadata": {},
     "inputWidgets": {},
     "nuid": "64227d64-7765-48ce-ad9d-728f39014e03",
     "showTitle": false,
     "tableResultSettingsMap": {},
     "title": ""
    },
    "jp-MarkdownHeadingCollapsed": true
   },
   "source": [
    "## 설치파일"
   ]
  },
  {
   "cell_type": "code",
   "execution_count": 0,
   "metadata": {
    "application/vnd.databricks.v1+cell": {
     "cellMetadata": {},
     "inputWidgets": {},
     "nuid": "f905d568-c314-465d-8ae4-5165de80f3cb",
     "showTitle": false,
     "tableResultSettingsMap": {},
     "title": ""
    }
   },
   "outputs": [],
   "source": [
    "!pip install -U langchain-community"
   ]
  },
  {
   "cell_type": "code",
   "execution_count": 0,
   "metadata": {
    "application/vnd.databricks.v1+cell": {
     "cellMetadata": {},
     "inputWidgets": {},
     "nuid": "43e19852-bade-4718-af4c-afaa2f4d9903",
     "showTitle": false,
     "tableResultSettingsMap": {},
     "title": ""
    }
   },
   "outputs": [],
   "source": [
    "!pip install -U langchain-openai"
   ]
  },
  {
   "cell_type": "code",
   "execution_count": 0,
   "metadata": {
    "application/vnd.databricks.v1+cell": {
     "cellMetadata": {},
     "inputWidgets": {},
     "nuid": "1a92df6c-cb7e-45df-b2cd-33b98067af51",
     "showTitle": false,
     "tableResultSettingsMap": {},
     "title": ""
    }
   },
   "outputs": [],
   "source": [
    "!pip install openai"
   ]
  },
  {
   "cell_type": "code",
   "execution_count": 0,
   "metadata": {
    "application/vnd.databricks.v1+cell": {
     "cellMetadata": {},
     "inputWidgets": {},
     "nuid": "a837587b-a3c3-45fd-90ed-e444cb7f7757",
     "showTitle": false,
     "tableResultSettingsMap": {},
     "title": ""
    }
   },
   "outputs": [],
   "source": [
    "!pip install chromadb"
   ]
  },
  {
   "cell_type": "code",
   "execution_count": 0,
   "metadata": {
    "application/vnd.databricks.v1+cell": {
     "cellMetadata": {},
     "inputWidgets": {},
     "nuid": "66cb3098-c58f-4c75-be1b-1e1ab06b9279",
     "showTitle": false,
     "tableResultSettingsMap": {},
     "title": ""
    }
   },
   "outputs": [],
   "source": [
    "!pip install tiktoken"
   ]
  },
  {
   "cell_type": "code",
   "execution_count": 0,
   "metadata": {
    "application/vnd.databricks.v1+cell": {
     "cellMetadata": {},
     "inputWidgets": {},
     "nuid": "eeaa5aea-6744-4608-8f1a-f6a6193424a2",
     "showTitle": false,
     "tableResultSettingsMap": {},
     "title": ""
    }
   },
   "outputs": [],
   "source": [
    "!pip install --upgrade numpy pandas"
   ]
  },
  {
   "cell_type": "code",
   "execution_count": 0,
   "metadata": {
    "application/vnd.databricks.v1+cell": {
     "cellMetadata": {},
     "inputWidgets": {},
     "nuid": "98f33c46-aa98-40e0-af82-db13b97f238f",
     "showTitle": false,
     "tableResultSettingsMap": {},
     "title": ""
    }
   },
   "outputs": [],
   "source": [
    "!pip install boto3"
   ]
  },
  {
   "cell_type": "code",
   "execution_count": 0,
   "metadata": {
    "application/vnd.databricks.v1+cell": {
     "cellMetadata": {},
     "inputWidgets": {},
     "nuid": "588cd8dd-318b-4c0d-ba8c-31a32106d7d7",
     "showTitle": false,
     "tableResultSettingsMap": {},
     "title": ""
    }
   },
   "outputs": [],
   "source": [
    "!pip install lxml"
   ]
  },
  {
   "cell_type": "markdown",
   "metadata": {
    "application/vnd.databricks.v1+cell": {
     "cellMetadata": {},
     "inputWidgets": {},
     "nuid": "334d1d53-d32e-4561-a54a-3c3928aaf777",
     "showTitle": false,
     "tableResultSettingsMap": {},
     "title": ""
    }
   },
   "source": [
    "## S3 서버로 파일 연결"
   ]
  },
  {
   "cell_type": "code",
   "execution_count": 0,
   "metadata": {
    "application/vnd.databricks.v1+cell": {
     "cellMetadata": {},
     "inputWidgets": {},
     "nuid": "2bd64571-9158-46c0-bda2-bfab84f63d71",
     "showTitle": false,
     "tableResultSettingsMap": {},
     "title": ""
    }
   },
   "outputs": [],
   "source": [
    "# s3 경로 확인\n",
    "import requests\n",
    "\n",
    "DATABRICKS_HOST = \"https://tacademykr-asacdataanalysis.cloud.databricks.com\"\n",
    "TOKEN = \"YOUR_DATABRICKS_TOKEN\"     # DATABRICKS_TOKEN 입력\n",
    "VOLUME_NAME = \"bronze.crawling_semas.xml\"\n",
    "# /Volumes/bronze/crawling_semas/xml/latest/semas_supportcontents.xml\n",
    "headers = {\n",
    "    \"Authorization\": f\"Bearer {TOKEN}\"\n",
    "}\n",
    "\n",
    "resp = requests.get(\n",
    "    f\"{DATABRICKS_HOST}/api/2.1/unity-catalog/volumes/{VOLUME_NAME}\",\n",
    "    headers=headers\n",
    ")\n",
    "\n",
    "volume_info = resp.json()\n",
    "s3_path = volume_info[\"storage_location\"]\n",
    "print(\"S3 위치:\", s3_path)"
   ]
  },
  {
   "cell_type": "markdown",
   "metadata": {
    "application/vnd.databricks.v1+cell": {
     "cellMetadata": {},
     "inputWidgets": {},
     "nuid": "09fe7d7f-cf87-45e2-9b42-d53ac81b6eb7",
     "showTitle": false,
     "tableResultSettingsMap": {},
     "title": ""
    }
   },
   "source": [
    "## 코드(함수)"
   ]
  },
  {
   "cell_type": "code",
   "execution_count": 0,
   "metadata": {
    "application/vnd.databricks.v1+cell": {
     "cellMetadata": {},
     "inputWidgets": {},
     "nuid": "d9f6a152-69a8-4964-92c9-355d8f85f934",
     "showTitle": false,
     "tableResultSettingsMap": {},
     "title": ""
    }
   },
   "outputs": [],
   "source": [
    "import io\n",
    "import boto3\n",
    "import xml.etree.ElementTree as ET\n",
    "from bs4 import BeautifulSoup\n",
    "from langchain.text_splitter import RecursiveCharacterTextSplitter\n",
    "from langchain_openai import OpenAIEmbeddings\n",
    "from langchain_community.vectorstores import Chroma\n",
    "from langchain.retrievers.multi_query import MultiQueryRetriever\n",
    "from langchain_openai import ChatOpenAI\n",
    "from langchain.chains import RetrievalQAWithSourcesChain\n",
    "from langchain.prompts import PromptTemplate\n",
    "import os\n",
    "import logging\n",
    "\n",
    "logging.basicConfig()\n",
    "logging.getLogger(\"langchain.retrievers.multi_query\").setLevel(logging.INFO)\n",
    "\n",
    "# OpenAI API Key 설정\n",
    "os.environ[\"OPENAI_API_KEY\"] = \"YOUR_OPENAI_API_KEY\"   # OPENAI_API_KEY 입력\n",
    "\n",
    "def load_documents_from_s3_xml(bucket, key):\n",
    "    s3 = boto3.client('s3')\n",
    "    obj = s3.get_object(Bucket=bucket, Key=key)\n",
    "    xml_bytes = obj['Body'].read()\n",
    "\n",
    "    results = []\n",
    "    root = ET.fromstring(xml_bytes)\n",
    "\n",
    "    for category in root.findall(\"Category\"):\n",
    "        category_name = category.get(\"name\", \"\")\n",
    "        subcategories = category.findall(\"Subcategory\")\n",
    "\n",
    "        if subcategories:\n",
    "            for subcat in subcategories:\n",
    "                subcategory_name = subcat.get(\"name\", \"\")\n",
    "                for item in subcat.findall(\"Item\"):\n",
    "                    title = item.findtext(\"Title\")\n",
    "                    url = item.findtext(\"URL\")\n",
    "                    content_html = item.findtext(\"Content\")\n",
    "                    soup = BeautifulSoup(content_html or \"\", \"lxml\")\n",
    "                    for dl in soup.find_all(\"dl\"):\n",
    "                        dt = dl.find(\"dt\")\n",
    "                        dd = dl.find(\"dd\")\n",
    "                        if dt and dd:\n",
    "                            results.append({\n",
    "                                \"Category\": category_name,\n",
    "                                \"Subcategory\": subcategory_name,\n",
    "                                \"Title\": title,\n",
    "                                \"URL\": url,\n",
    "                                \"구분\": dt.get_text(strip=True),\n",
    "                                \"내용\": dd.get_text(separator=\"\\n\", strip=True)\n",
    "                            })\n",
    "        else:\n",
    "            for item in category.findall(\"Item\"):\n",
    "                title = item.findtext(\"Title\")\n",
    "                url = item.findtext(\"URL\")\n",
    "                content_html = item.findtext(\"Content\")\n",
    "                soup = BeautifulSoup(content_html or \"\", \"html.parser\")\n",
    "                for dl in soup.find_all(\"dl\"):\n",
    "                    dt = dl.find(\"dt\")\n",
    "                    dd = dl.find(\"dd\")\n",
    "                    if dt and dd:\n",
    "                        results.append({\n",
    "                            \"Category\": category_name,\n",
    "                            \"Subcategory\": None,\n",
    "                            \"Title\": title,\n",
    "                            \"URL\": url,\n",
    "                            \"구분\": dt.get_text(strip=True),\n",
    "                            \"내용\": dd.get_text(separator=\"\\n\", strip=True)\n",
    "                        })\n",
    "\n",
    "    # 청킹 시 metadata 포함\n",
    "    texts = []\n",
    "    metadatas = []\n",
    "\n",
    "    for r in results:\n",
    "        if r[\"구분\"] not in [\"문의처\", \"설문\", \"만족도\"]:\n",
    "            texts.append(\n",
    "                f\"카테고리: {r['Category']}\\n소분류: {r['Subcategory']}\\n제목: {r['Title']}\\n구분: {r['구분']}\\n내용: {r['내용']}\"\n",
    "            )\n",
    "            metadatas.append({\"title\": r[\"Title\"], \"source\": r[\"URL\"]})\n",
    "\n",
    "    return texts, metadatas\n",
    "\n",
    "# 2. 초기 세팅\n",
    "def intialize_qa_chain_from_s3(bucket,key):\n",
    "    texts, metadatas = load_documents_from_s3_xml(bucket,key)\n",
    "    splitter = RecursiveCharacterTextSplitter(chunk_size=500, chunk_overlap=50)\n",
    "    documents = splitter.create_documents(texts, metadatas=metadatas)\n",
    "\n",
    "    embedding = OpenAIEmbeddings(model=\"text-embedding-ada-002\")\n",
    "    vectorstore = Chroma.from_documents(documents, embedding, collection_name=\"semas-structured\")\n",
    "\n",
    "    prompt_template = PromptTemplate(\n",
    "        input_variables=[\"summaries\", \"question\"],\n",
    "        template=\"\"\"\n",
    "    소상공인들의 성공적인 창업 및 경영을 위한 답변이 필요합니다.\n",
    "    질문과 관련된 모든 정책을 나열하고 다음 문서 내용을 기반으로 질문에 답하세요.\n",
    "    '내용'에 해당하는 답변을 해야할 때는 반드시 해당 지원사업의 'Title'의 이름을 명시해야합니다.\n",
    "    ※ 만족도 설문, 문의처 등은 제외하고 정책 내용 위주로 설명하세요.\n",
    "    ※ 해당하는 사업의 'Title'을 강조한 후, 상세내용을 가능한한 상세하게 설명하세요.\n",
    "    \n",
    "    문서:\n",
    "    {summaries}\n",
    "    \n",
    "    질문:\n",
    "    {question}\n",
    "    \n",
    "    답변:\n",
    "    \"\"\"\n",
    "    )\n",
    "\n",
    "    llm = ChatOpenAI(model_name=\"gpt-4o-mini\", temperature=0)\n",
    "    retriever = MultiQueryRetriever.from_llm(retriever = vectorstore.as_retriever(), llm = llm)\n",
    "\n",
    "    return RetrievalQAWithSourcesChain.from_chain_type(\n",
    "        retriever=retriever,\n",
    "        chain_type=\"stuff\",\n",
    "        chain_type_kwargs={\"prompt\": prompt_template},\n",
    "        llm = llm\n",
    "    )\n",
    "\n",
    "def ask_question(qa_chain, question: str):\n",
    "    response = qa_chain.invoke({\"question\": question})\n",
    "    print(response[\"answer\"])\n",
    "\n",
    "    # 관련된 URL 추출\n",
    "    if response[\"sources\"]:\n",
    "        print(f\"\\n자세한 사항은 {response['sources'].split(',')[0]} 를 참조하세요.\")\n",
    "    else:\n",
    "        print(\"\\n자세한 사항은 https://www.semas.or.kr/ 를 참조하세요.\")"
   ]
  },
  {
   "cell_type": "code",
   "execution_count": 0,
   "metadata": {
    "application/vnd.databricks.v1+cell": {
     "cellMetadata": {},
     "inputWidgets": {},
     "nuid": "a01d654b-0408-4b00-83a7-5d27a7102a03",
     "showTitle": false,
     "tableResultSettingsMap": {},
     "title": ""
    }
   },
   "outputs": [],
   "source": [
    "qa_chain = intialize_qa_chain(\"semas_supportcontents.xml\")\n",
    "\n",
    "ask_question(qa_chain, \"폐업 준비 중인데, 재기를 위한 지원책이 있나요?\")"
   ]
  },
  {
   "cell_type": "markdown",
   "metadata": {
    "application/vnd.databricks.v1+cell": {
     "cellMetadata": {},
     "inputWidgets": {},
     "nuid": "700a9d1e-18bb-47df-805b-fe1bafd0cadc",
     "showTitle": false,
     "tableResultSettingsMap": {},
     "title": ""
    }
   },
   "source": [
    "## 질문"
   ]
  },
  {
   "cell_type": "code",
   "execution_count": 0,
   "metadata": {
    "application/vnd.databricks.v1+cell": {
     "cellMetadata": {},
     "inputWidgets": {},
     "nuid": "db3237bd-2b75-4658-b004-43b233169c1f",
     "showTitle": false,
     "tableResultSettingsMap": {},
     "title": ""
    }
   },
   "outputs": [],
   "source": [
    "# 연결 xml S3 경로 설정\n",
    "# 첫 셀에서 확인한 S3 위치에 모두 들어가 있음 - 카탈로그/스키마/볼륨의 위치 말해주는것\n",
    "\n",
    "bucket = \"asac-7-dataanalysis\"\n",
    "key = (\n",
    "    \"unity-catalog/639069795658224/__unitystorage/\"\n",
    "    \"schemas/a9e627a1-04ca-48c3-bc02-bdd59ec47f87/\"\n",
    "    \"volumes/5ee21755-3d14-4d4c-b297-f18e4a83a4e6/latest/semas_supportcontents.xml\"\n",
    ")"
   ]
  },
  {
   "cell_type": "code",
   "execution_count": 0,
   "metadata": {
    "application/vnd.databricks.v1+cell": {
     "cellMetadata": {},
     "inputWidgets": {},
     "nuid": "dc0a05bf-10ca-4ecb-90d5-098c00c71106",
     "showTitle": false,
     "tableResultSettingsMap": {},
     "title": ""
    }
   },
   "outputs": [],
   "source": [
    "qa_chain = intialize_qa_chain_from_s3(bucket, key)\n",
    "ask_question(qa_chain, \"청년 창업지원 내용은 어떤 게 있어?\")"
   ]
  },
  {
   "cell_type": "code",
   "execution_count": 0,
   "metadata": {
    "application/vnd.databricks.v1+cell": {
     "cellMetadata": {},
     "inputWidgets": {},
     "nuid": "33d419d1-f9fd-41f8-a787-31279fcdb23b",
     "showTitle": false,
     "tableResultSettingsMap": {},
     "title": ""
    }
   },
   "outputs": [],
   "source": [
    "qa_chain = intialize_qa_chain_from_s3(bucket, key)\n",
    "ask_question(qa_chain, \"경영 부진을 해결할 수 있는 지원에는 뭐가 있습니까?\")"
   ]
  },
  {
   "cell_type": "code",
   "execution_count": 0,
   "metadata": {
    "application/vnd.databricks.v1+cell": {
     "cellMetadata": {},
     "inputWidgets": {},
     "nuid": "17772365-af8c-4854-8a84-5bd033b63444",
     "showTitle": false,
     "tableResultSettingsMap": {},
     "title": ""
    }
   },
   "outputs": [],
   "source": [
    "qa_chain = intialize_qa_chain_from_s3(bucket, key)\n",
    "ask_question(qa_chain, \"한 가게를 오랫동안 운영했습니다. 지원받을 수 있는게 있을까요?\")"
   ]
  },
  {
   "cell_type": "code",
   "execution_count": 0,
   "metadata": {
    "application/vnd.databricks.v1+cell": {
     "cellMetadata": {},
     "inputWidgets": {},
     "nuid": "04b00dcd-1908-4dd8-82a2-f8cdc1cc536b",
     "showTitle": false,
     "tableResultSettingsMap": {},
     "title": ""
    }
   },
   "outputs": [],
   "source": [
    "qa_chain = intialize_qa_chain_from_s3(bucket, key)\n",
    "ask_question(qa_chain, \"지역특색을 살린 사업을 하고 싶은데 뭘 할 수 있죠?\")"
   ]
  },
  {
   "cell_type": "code",
   "execution_count": 0,
   "metadata": {
    "application/vnd.databricks.v1+cell": {
     "cellMetadata": {},
     "inputWidgets": {},
     "nuid": "67d09069-e796-4fa5-bdf6-f1ad4e44e70e",
     "showTitle": false,
     "tableResultSettingsMap": {},
     "title": ""
    }
   },
   "outputs": [],
   "source": [
    "qa_chain = intialize_qa_chain_from_s3(bucket, key)\n",
    "ask_question(qa_chain, \"로컬크리에이터가 뭐죠?\")"
   ]
  },
  {
   "cell_type": "markdown",
   "metadata": {
    "application/vnd.databricks.v1+cell": {
     "cellMetadata": {},
     "inputWidgets": {},
     "nuid": "8729c3bc-b936-4ebf-bc01-8a408bf542bd",
     "showTitle": false,
     "tableResultSettingsMap": {},
     "title": ""
    },
    "jp-MarkdownHeadingCollapsed": true
   },
   "source": [
    "## 질문(수정 전)"
   ]
  },
  {
   "cell_type": "code",
   "execution_count": 0,
   "metadata": {
    "application/vnd.databricks.v1+cell": {
     "cellMetadata": {},
     "inputWidgets": {},
     "nuid": "9298aa3e-964f-4644-80ee-74071a31befb",
     "showTitle": false,
     "tableResultSettingsMap": {},
     "title": ""
    }
   },
   "outputs": [],
   "source": [
    "qa_chain = intialize_qa_chain(\"semas_supportcontents.xml\")\n",
    "\n",
    "ask_question(qa_chain, \"해외 진출을 위한 마케팅을 지원해주는 사업을 알려주세요\")"
   ]
  },
  {
   "cell_type": "code",
   "execution_count": 0,
   "metadata": {
    "application/vnd.databricks.v1+cell": {
     "cellMetadata": {},
     "inputWidgets": {},
     "nuid": "e2002bb7-a35b-4484-8b96-736354132247",
     "showTitle": false,
     "tableResultSettingsMap": {},
     "title": ""
    }
   },
   "outputs": [],
   "source": [
    "qa_chain = intialize_qa_chain(\"semas_supportcontents.xml\")\n",
    "\n",
    "ask_question(qa_chain, \"폐업 준비 중인데, 재기를 위한 지원책이 있나요?\")"
   ]
  },
  {
   "cell_type": "code",
   "execution_count": 0,
   "metadata": {
    "application/vnd.databricks.v1+cell": {
     "cellMetadata": {},
     "inputWidgets": {},
     "nuid": "8eece859-5d56-4e32-9cb7-cbfd3d97b04f",
     "showTitle": false,
     "tableResultSettingsMap": {},
     "title": ""
    }
   },
   "outputs": [],
   "source": [
    "qa_chain = intialize_qa_chain(\"semas_supportcontents.xml\")\n",
    "\n",
    "ask_question(qa_chain, \"해외 진출을 위한 마케팅을 지원해주는 사업을 알려주세요\")"
   ]
  },
  {
   "cell_type": "code",
   "execution_count": 0,
   "metadata": {
    "application/vnd.databricks.v1+cell": {
     "cellMetadata": {},
     "inputWidgets": {},
     "nuid": "26078ee3-534c-41dc-ad01-debcb4822c3e",
     "showTitle": false,
     "tableResultSettingsMap": {},
     "title": ""
    }
   },
   "outputs": [],
   "source": [
    "qa_chain = intialize_qa_chain(\"semas_supportcontents.xml\")\n",
    "\n",
    "ask_question(qa_chain, \"원스톱폐업지원에 마케팅 지원 항목도 있나요?\")"
   ]
  },
  {
   "cell_type": "code",
   "execution_count": 0,
   "metadata": {
    "application/vnd.databricks.v1+cell": {
     "cellMetadata": {},
     "inputWidgets": {},
     "nuid": "94a47651-fb9a-4793-bb95-cd91b8eb27a2",
     "showTitle": false,
     "tableResultSettingsMap": {},
     "title": ""
    }
   },
   "outputs": [],
   "source": [
    "qa_chain = intialize_qa_chain(\"semas_supportcontents.xml\")\n",
    "\n",
    "ask_question(qa_chain, \"운영한지 30년 이상된 가게는 어떤 지원사업을 신청하는 것이 좋을까요?\")"
   ]
  },
  {
   "cell_type": "code",
   "execution_count": 0,
   "metadata": {
    "application/vnd.databricks.v1+cell": {
     "cellMetadata": {},
     "inputWidgets": {},
     "nuid": "c80c5f1e-2adc-44d1-984b-4725765f70a1",
     "showTitle": false,
     "tableResultSettingsMap": {},
     "title": ""
    }
   },
   "outputs": [],
   "source": [
    "qa_chain = intialize_qa_chain(\"semas_supportcontents.xml\")\n",
    "\n",
    "ask_question(qa_chain, \"폐업을 해야하는 상황인데, 폐업을 지원해주기도 하나요?\")"
   ]
  },
  {
   "cell_type": "code",
   "execution_count": 0,
   "metadata": {
    "application/vnd.databricks.v1+cell": {
     "cellMetadata": {},
     "inputWidgets": {},
     "nuid": "c11809a2-4f9c-45fc-bd0a-66743962aca0",
     "showTitle": false,
     "tableResultSettingsMap": {},
     "title": ""
    }
   },
   "outputs": [],
   "source": [
    "qa_chain = intialize_qa_chain(\"semas_supportcontents.xml\")\n",
    "\n",
    "ask_question(qa_chain, \"청년 창업지원 내용은 어떤 게 있어?\")"
   ]
  },
  {
   "cell_type": "code",
   "execution_count": 0,
   "metadata": {
    "application/vnd.databricks.v1+cell": {
     "cellMetadata": {},
     "inputWidgets": {},
     "nuid": "d00c95df-737c-4d97-8306-76199ca3a0b9",
     "showTitle": false,
     "tableResultSettingsMap": {},
     "title": ""
    }
   },
   "outputs": [],
   "source": []
  },
  {
   "cell_type": "code",
   "execution_count": 0,
   "metadata": {
    "application/vnd.databricks.v1+cell": {
     "cellMetadata": {},
     "inputWidgets": {},
     "nuid": "533d4807-8607-473d-8d1d-1517e1410bb3",
     "showTitle": false,
     "tableResultSettingsMap": {},
     "title": ""
    }
   },
   "outputs": [],
   "source": []
  }
 ],
 "metadata": {
  "application/vnd.databricks.v1+notebook": {
   "computePreferences": null,
   "dashboards": [],
   "environmentMetadata": null,
   "inputWidgetPreferences": null,
   "language": "python",
   "notebookMetadata": {
    "pythonIndentUnit": 4
   },
   "notebookName": "SEMAS_RAG_S3 connect",
   "widgets": {}
  },
  "kernelspec": {
   "display_name": "Python 3 (ipykernel)",
   "language": "python",
   "name": "python3"
  },
  "language_info": {
   "name": "python"
  }
 },
 "nbformat": 4,
 "nbformat_minor": 0
}
